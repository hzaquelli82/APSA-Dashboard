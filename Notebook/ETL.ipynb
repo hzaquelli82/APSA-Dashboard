{
 "cells": [
  {
   "cell_type": "markdown",
   "metadata": {},
   "source": [
    "## Conexión base de datos"
   ]
  },
  {
   "cell_type": "code",
   "execution_count": 30,
   "metadata": {},
   "outputs": [],
   "source": [
    "import MySQLdb\n",
    "import pandas as pd\n",
    "from datetime import datetime\n",
    "\n",
    "db = MySQLdb.connect(host=\"192.168.0.12\",    #  host\n",
    "                     user=\"operario\",         #  usuario\n",
    "                     passwd=\"\",  #  password\n",
    "                     db=\"dbp8100\")        #  nombre de la base de datos\n",
    "\n",
    "cur = db.cursor()\n",
    "\n"
   ]
  },
  {
   "cell_type": "markdown",
   "metadata": {},
   "source": [
    "# Extracción de datos"
   ]
  },
  {
   "cell_type": "markdown",
   "metadata": {},
   "source": [
    "### Tabla tareaseje"
   ]
  },
  {
   "cell_type": "code",
   "execution_count": 22,
   "metadata": {},
   "outputs": [
    {
     "name": "stdout",
     "output_type": "stream",
     "text": [
      "       NroID       Fecha            Hora   IDF  Ciclos  IDOP  Turno      Eje  \\\n",
      "0          1  2012-06-28 0 days 17:52:55     1      20     0      0  b'\\x00'   \n",
      "1          2  2012-06-28 0 days 19:10:51    11       2     0      0  b'\\x00'   \n",
      "2          3  2012-06-29 0 days 07:08:30    26       7     0      0  b'\\x00'   \n",
      "3          4  2012-06-29 0 days 08:32:20    27      28     0      0  b'\\x00'   \n",
      "4          5  2012-06-29 0 days 12:26:42    18      23     0      0  b'\\x00'   \n",
      "...      ...         ...             ...   ...     ...   ...    ...      ...   \n",
      "25170  25171  2025-02-07 0 days 04:11:30  1208       6     7      0  b'\\x00'   \n",
      "25171  25172  2025-02-07 0 days 04:55:06  1120      20     7      0  b'\\x00'   \n",
      "25172  25173  2025-02-07 0 days 07:55:46  1042      10     7      0  b'\\x00'   \n",
      "25173  25174  2025-02-07 0 days 12:24:44   906       2     8      0  b'\\x00'   \n",
      "25174  25175  2025-02-07 0 days 12:28:50   906       2     8      0  b'\\x00'   \n",
      "\n",
      "           Set  IDD  Lote  Destino          Tiempo  KVA  CicloE     SetE  \n",
      "0      20420.0    0     1  INTERNO 0 days 00:00:49  0.0       0      0.0  \n",
      "1       2040.0    0     2  INTERNO 0 days 00:01:12  0.0       0      0.0  \n",
      "2       6916.0    0     3  INTERNO 0 days 01:09:11  0.0       7   6916.0  \n",
      "3      30912.0    0     4  INTERNO 0 days 03:46:11  0.0      28  30912.0  \n",
      "4      23460.0    0     5  INTERNO 0 days 00:15:36  0.0       2   2040.0  \n",
      "...        ...  ...   ...      ...             ...  ...     ...      ...  \n",
      "25170   6000.0    0     2  INTERNO 0 days 00:41:14  0.0       6   6000.0  \n",
      "25171  20000.0    0     3  INTERNO 0 days 00:00:00  0.0      16  16000.0  \n",
      "25172  10000.0    0     1  INTERNO 0 days 01:26:16  0.0      10  10000.0  \n",
      "25173   2000.0    0     1  INTERNO 0 days 00:03:53  0.0       0      0.0  \n",
      "25174   2000.0    0     2  INTERNO 0 days 00:23:50  0.0       2   2000.0  \n",
      "\n",
      "[25175 rows x 16 columns]\n"
     ]
    }
   ],
   "source": [
    "# Carga Inicial\n",
    "cur.execute(\"SELECT * FROM tareaseje\")\n",
    "resultados = cur.fetchall()\n",
    "# Obtener los nombres de las columnas\n",
    "columnas = [desc[0] for desc in cur.description]\n",
    "\n",
    "# Crear un DataFrame de pandas\n",
    "df = pd.DataFrame(resultados, columns=columnas)\n",
    "\n",
    "# Cerrar el cursor y la conexión\n",
    "cur.close()\n",
    "db.close()\n",
    "\n",
    "# Mostrar el DataFrame\n",
    "print(df)"
   ]
  },
  {
   "cell_type": "code",
   "execution_count": 23,
   "metadata": {},
   "outputs": [
    {
     "name": "stdout",
     "output_type": "stream",
     "text": [
      "<class 'pandas.core.frame.DataFrame'>\n",
      "RangeIndex: 25175 entries, 0 to 25174\n",
      "Data columns (total 16 columns):\n",
      " #   Column   Non-Null Count  Dtype          \n",
      "---  ------   --------------  -----          \n",
      " 0   NroID    25175 non-null  int64          \n",
      " 1   Fecha    25175 non-null  object         \n",
      " 2   Hora     25175 non-null  timedelta64[ns]\n",
      " 3   IDF      25175 non-null  int64          \n",
      " 4   Ciclos   25175 non-null  int64          \n",
      " 5   IDOP     25175 non-null  int64          \n",
      " 6   Turno    25175 non-null  int64          \n",
      " 7   Eje      25175 non-null  object         \n",
      " 8   Set      25175 non-null  float64        \n",
      " 9   IDD      25175 non-null  int64          \n",
      " 10  Lote     25175 non-null  int64          \n",
      " 11  Destino  25175 non-null  object         \n",
      " 12  Tiempo   25175 non-null  timedelta64[ns]\n",
      " 13  KVA      25175 non-null  float64        \n",
      " 14  CicloE   25175 non-null  int64          \n",
      " 15  SetE     25175 non-null  float64        \n",
      "dtypes: float64(3), int64(8), object(3), timedelta64[ns](2)\n",
      "memory usage: 3.1+ MB\n"
     ]
    }
   ],
   "source": [
    "df.info()"
   ]
  },
  {
   "cell_type": "code",
   "execution_count": 24,
   "metadata": {},
   "outputs": [],
   "source": [
    "df.to_parquet('../Data/tareaseje_inicio.parquet', index=False)"
   ]
  },
  {
   "cell_type": "markdown",
   "metadata": {},
   "source": [
    "### Tabla formulas"
   ]
  },
  {
   "cell_type": "code",
   "execution_count": 28,
   "metadata": {},
   "outputs": [
    {
     "name": "stdout",
     "output_type": "stream",
     "text": [
      "      NroID                                Nombre  Codigo  Desc1A  Desc1B  \\\n",
      "0        35           FIBROMIXER 300  19% A.A. -1    None       0       0   \n",
      "1        36     VACA LECHERA 16% anulada no hacer     3-K       0       0   \n",
      "2        39  DEST. PRECOZ MEL. 0%A.A CASC DE SOJA  07-009       0       1   \n",
      "3        40          INICIADOR MELAZA (21 %A.A.)   08-020       0       0   \n",
      "4        41            C.M. URUGUAY REFORZADO 10%    09-H       0       0   \n",
      "...     ...                                   ...     ...     ...     ...   \n",
      "1151   1249       LIMPIEZA CIRCUITO EXPELLER SOJA    LCES       0       0   \n",
      "1152   1250       LIMPIEZA CIRCUITO MAÍZ QUEBRADO    LCMQ       0       0   \n",
      "1153   1251                    PELLETS DE ALFALFA    P.A.       0       0   \n",
      "1154   1252     LIMPIEZA CIRCUITO PELLETS ALFALFA    LCPA       0       0   \n",
      "1155   1253            TERMINADOR MELAZA PARAGUAY  99-010       0       0   \n",
      "\n",
      "      Desc1C  Desc1D  T1   T2  T3  ...  T21  T22  T23  T24  Extra1  Extra2  \\\n",
      "0          0       0  10  200  20  ...    0    0    0    0       0       0   \n",
      "1          0       0  10  180  10  ...    0    0    0    0       0       0   \n",
      "2          0       2  10  120  10  ...    0    0    0    0       0       0   \n",
      "3          0       3  10  180  10  ...    0    0    0    0       0       0   \n",
      "4          0       0  10  180  10  ...    0    0    0    0       0       0   \n",
      "...      ...     ...  ..  ...  ..  ...  ...  ...  ...  ...     ...     ...   \n",
      "1151       0       1  10   20  10  ...    0    0    0    0       0       0   \n",
      "1152       0       1  10   20  10  ...    0    0    0    0       0       0   \n",
      "1153       0       1  10   10  10  ...    0    0    0    0       0       0   \n",
      "1154       0       1  10   20  10  ...    0    0    0    0       0       0   \n",
      "1155       0       0  10  240  10  ...    0    0    0    0       0       0   \n",
      "\n",
      "      Extra3  SetAmp  VT  IDgrupo  \n",
      "0          0     0.0   0        0  \n",
      "1          0     0.0   0        0  \n",
      "2          0     0.0   0        0  \n",
      "3          0     0.0   0        0  \n",
      "4          0     0.0   0        0  \n",
      "...      ...     ...  ..      ...  \n",
      "1151       0     0.0   1        0  \n",
      "1152       0     0.0   1        0  \n",
      "1153       0     0.0   1        0  \n",
      "1154       0     0.0   1        0  \n",
      "1155       0     0.0   1        0  \n",
      "\n",
      "[1156 rows x 37 columns]\n"
     ]
    }
   ],
   "source": [
    "# Carga Inicial\n",
    "cur.execute(\"SELECT * FROM formulas\")\n",
    "resultados = cur.fetchall()\n",
    "# Obtener los nombres de las columnas\n",
    "columnas = [desc[0] for desc in cur.description]\n",
    "\n",
    "# Crear un DataFrame de pandas\n",
    "df = pd.DataFrame(resultados, columns=columnas)\n",
    "\n",
    "# Cerrar el cursor y la conexión\n",
    "cur.close()\n",
    "db.close()\n",
    "\n",
    "# Mostrar el DataFrame\n",
    "print(df)"
   ]
  },
  {
   "cell_type": "code",
   "execution_count": 29,
   "metadata": {},
   "outputs": [],
   "source": [
    "df.to_parquet('../Data/formulas_inicio.parquet', index=False)"
   ]
  },
  {
   "cell_type": "markdown",
   "metadata": {},
   "source": [
    "### Tabla dcaptura"
   ]
  },
  {
   "cell_type": "code",
   "execution_count": 31,
   "metadata": {},
   "outputs": [
    {
     "name": "stdout",
     "output_type": "stream",
     "text": [
      "         NroID    IDT  IDP  Item  Plata     Set   Valor  Ciclo  Emax   Frango  \\\n",
      "0            1      3    9     1      2    56.0    49.0      7  -7.0  b'\\x00'   \n",
      "1            2      3   11     2      2    28.0    36.0      7   8.0  b'\\x00'   \n",
      "2            3      3   10     3      2    98.0    87.0      7 -11.0  b'\\x00'   \n",
      "3            4      3    8     1      1   980.0   980.8      7   0.8  b'\\x00'   \n",
      "4            5      3    2     1      0  2520.0  2532.0      7  12.0  b'\\x00'   \n",
      "...        ...    ...  ...   ...    ...     ...     ...    ...   ...      ...   \n",
      "168116  168117  25173  137     8      0  2720.0  2753.0     10  33.0  b'\\x00'   \n",
      "168117  168118  25173   34     9      0   500.0   518.0     10  18.0  b'\\x00'   \n",
      "168118  168119  25175    5     1      0  1070.0  1075.0      2   5.0  b'\\x00'   \n",
      "168119  168120  25175   19     2      0   630.0   634.0      2   4.0  b'\\x00'   \n",
      "168120  168121  25175  216     1      2   300.0   304.1      2   4.1  b'\\x00'   \n",
      "\n",
      "        Idstock  \n",
      "0             0  \n",
      "1             0  \n",
      "2             0  \n",
      "3             0  \n",
      "4             0  \n",
      "...         ...  \n",
      "168116        0  \n",
      "168117        0  \n",
      "168118        0  \n",
      "168119        0  \n",
      "168120        0  \n",
      "\n",
      "[168121 rows x 11 columns]\n"
     ]
    }
   ],
   "source": [
    "# Carga Inicial\n",
    "cur.execute(\"SELECT * FROM dcaptura\")\n",
    "resultados = cur.fetchall()\n",
    "# Obtener los nombres de las columnas\n",
    "columnas = [desc[0] for desc in cur.description]\n",
    "\n",
    "# Crear un DataFrame de pandas\n",
    "df = pd.DataFrame(resultados, columns=columnas)\n",
    "\n",
    "# Cerrar el cursor y la conexión\n",
    "cur.close()\n",
    "db.close()\n",
    "\n",
    "# Mostrar el DataFrame\n",
    "print(df)\n",
    "df.to_parquet('../Data/dcaptura_inicio.parquet', index=False)"
   ]
  }
 ],
 "metadata": {
  "kernelspec": {
   "display_name": ".venv",
   "language": "python",
   "name": "python3"
  },
  "language_info": {
   "codemirror_mode": {
    "name": "ipython",
    "version": 3
   },
   "file_extension": ".py",
   "mimetype": "text/x-python",
   "name": "python",
   "nbconvert_exporter": "python",
   "pygments_lexer": "ipython3",
   "version": "3.12.8"
  }
 },
 "nbformat": 4,
 "nbformat_minor": 2
}

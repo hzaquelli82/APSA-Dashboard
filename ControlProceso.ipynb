{
 "cells": [
  {
   "cell_type": "markdown",
   "metadata": {},
   "source": [
    "## Conexión base de datos"
   ]
  },
  {
   "cell_type": "code",
   "execution_count": 11,
   "metadata": {},
   "outputs": [
    {
     "data": {
      "text/plain": [
       "25169"
      ]
     },
     "execution_count": 11,
     "metadata": {},
     "output_type": "execute_result"
    }
   ],
   "source": [
    "import MySQLdb\n",
    "import pandas as pd\n",
    "from datetime import datetime\n",
    "\n",
    "db = MySQLdb.connect(host=\"192.168.0.12\",    # tu host, usualmente localhost\n",
    "                     user=\"operario\",         # tu usuario\n",
    "                     passwd=\"\",  # tu password\n",
    "                     db=\"dbp8100\")        # el nombre de la base de datos\n",
    "\n",
    "# Debes crear un objeto Cursor. Te permitirá\n",
    "# ejecutar todos los queries que necesitas\n",
    "cur = db.cursor()\n",
    "\n",
    "# Usa todas las sentencias SQL que quieras\n",
    "cur.execute(\"SELECT * FROM tareaseje\")"
   ]
  },
  {
   "cell_type": "markdown",
   "metadata": {},
   "source": [
    "# Extracción de datos"
   ]
  },
  {
   "cell_type": "code",
   "execution_count": 12,
   "metadata": {},
   "outputs": [],
   "source": [
    "fecha_actual = datetime.now()\n",
    "fecha_actual = fecha_actual.strftime(\"%Y-%m-%d\")"
   ]
  },
  {
   "cell_type": "code",
   "execution_count": 13,
   "metadata": {},
   "outputs": [
    {
     "name": "stdout",
     "output_type": "stream",
     "text": [
      "         Fecha            Hora                                         Nombre  \\\n",
      "0   2025-02-06 0 days 03:08:28            RECRIA 14 SIN PELETEAR (quebradora)   \n",
      "1   2025-02-06 0 days 05:16:27                       CREC. MELAZA 12 % A.A...   \n",
      "2   2025-02-06 0 days 05:36:07                              LIMPIEZA CIRCUITO   \n",
      "3   2025-02-06 0 days 05:43:34                     DESARROLLO (LA MALVINA)...   \n",
      "4   2025-02-06 0 days 06:53:05                    TERMINACIÓN (LA MALVINA)...   \n",
      "5   2025-02-06 0 days 07:28:09                    TERMINACIÓN (LA MALVINA)...   \n",
      "6   2025-02-06 0 days 08:01:50                DESTETE PRECOZ MELAZA  10% A.A.   \n",
      "7   2025-02-06 0 days 09:51:17                      INICIADOR MELAZA 14% A.A.   \n",
      "8   2025-02-06 0 days 10:36:49                      INICIADOR MELAZA 14% A.A.   \n",
      "9   2025-02-06 0 days 11:16:02                      VACA LECHERA 16 expeller.   \n",
      "10  2025-02-06 0 days 12:02:08  (LA MALVINA) DESARROLLO TERNEROS MAIZ CON SAL   \n",
      "11  2025-02-06 0 days 12:09:20  (LA MALVINA) DESARROLLO TERNEROS MAIZ CON SAL   \n",
      "12  2025-02-06 0 days 12:37:59                        ENGORDE BOVINO 14% A.A.   \n",
      "13  2025-02-06 0 days 14:03:30                       CREC. MELAZA 12 % A.A...   \n",
      "14  2025-02-06 0 days 15:32:24                              LIMPIEZA CIRCUITO   \n",
      "15  2025-02-06 0 days 15:42:46                     TERMINACIÓN CERDOS SANCHEZ   \n",
      "\n",
      "    Programado  Dosificado          Tiempo  \n",
      "0      14000.0    14014.20 0 days 02:04:19  \n",
      "1       2000.0     1993.35 0 days 00:15:37  \n",
      "2        270.0      266.10 0 days 00:04:44  \n",
      "3      12000.0    12005.10 0 days 01:09:02  \n",
      "4       6000.0     1048.60 0 days 00:00:00  \n",
      "5       4000.0     4008.80 0 days 00:26:24  \n",
      "6       9990.0    10097.10 0 days 01:48:03  \n",
      "7       8000.0     4061.70 0 days 00:00:00  \n",
      "8       4000.0     4075.60 0 days 00:38:23  \n",
      "9       4000.0     4050.95 0 days 00:43:45  \n",
      "10      4000.0       52.00 0 days 00:04:53  \n",
      "11      4000.0     4030.80 0 days 00:24:23  \n",
      "12      8000.0     8144.85 0 days 01:24:30  \n",
      "13      8000.0     8170.40 0 days 01:28:34  \n",
      "14       270.0      270.20 0 days 00:03:00  \n",
      "15     10000.0    10027.30 0 days 01:08:41  \n"
     ]
    }
   ],
   "source": [
    "# Extraer datos y convertir a df\n",
    "\n",
    "# Datos mysql\n",
    "cur.execute('''\n",
    "            SELECT                 \n",
    "                tareaseje.Fecha AS Fecha,\n",
    "                tareaseje.Hora AS Hora,\n",
    "                formulas.Nombre AS Nombre,\n",
    "                tareaseje.Set AS Programado,\n",
    "                (SELECT SUM(dcaptura.Valor) FROM dbp8100.dcaptura WHERE dcaptura.IDT = tareaseje.NroID) AS Dosificado,\n",
    "                tareaseje.Tiempo AS Tiempo\n",
    "            FROM \n",
    "                dbp8100.tareaseje AS tareaseje\n",
    "            JOIN \n",
    "                dbp8100.formulas AS formulas ON formulas.NroID = tareaseje.IDF\n",
    "            WHERE\n",
    "                Fecha >= %s\n",
    "            GROUP BY\n",
    "                tareaseje.NroID\n",
    "            ''', (fecha_actual,))\n",
    "resultados = cur.fetchall()\n",
    "# Obtener los nombres de las columnas\n",
    "columnas = [desc[0] for desc in cur.description]\n",
    "\n",
    "# Crear un DataFrame de pandas\n",
    "df = pd.DataFrame(resultados, columns=columnas)\n",
    "\n",
    "# Cerrar el cursor y la conexión\n",
    "cur.close()\n",
    "db.close()\n",
    "\n",
    "# Mostrar el DataFrame\n",
    "print(df)"
   ]
  },
  {
   "cell_type": "code",
   "execution_count": 14,
   "metadata": {},
   "outputs": [
    {
     "name": "stdout",
     "output_type": "stream",
     "text": [
      "<class 'pandas.core.frame.DataFrame'>\n",
      "RangeIndex: 16 entries, 0 to 15\n",
      "Data columns (total 6 columns):\n",
      " #   Column      Non-Null Count  Dtype          \n",
      "---  ------      --------------  -----          \n",
      " 0   Fecha       16 non-null     object         \n",
      " 1   Hora        16 non-null     timedelta64[ns]\n",
      " 2   Nombre      16 non-null     object         \n",
      " 3   Programado  16 non-null     float64        \n",
      " 4   Dosificado  16 non-null     float64        \n",
      " 5   Tiempo      16 non-null     timedelta64[ns]\n",
      "dtypes: float64(2), object(2), timedelta64[ns](2)\n",
      "memory usage: 900.0+ bytes\n"
     ]
    }
   ],
   "source": [
    "df.info()"
   ]
  },
  {
   "cell_type": "markdown",
   "metadata": {},
   "source": [
    "# Convertir datos y graficar"
   ]
  },
  {
   "cell_type": "code",
   "execution_count": 15,
   "metadata": {},
   "outputs": [
    {
     "data": {
      "text/html": [
       "<div>\n",
       "<style scoped>\n",
       "    .dataframe tbody tr th:only-of-type {\n",
       "        vertical-align: middle;\n",
       "    }\n",
       "\n",
       "    .dataframe tbody tr th {\n",
       "        vertical-align: top;\n",
       "    }\n",
       "\n",
       "    .dataframe thead th {\n",
       "        text-align: right;\n",
       "    }\n",
       "</style>\n",
       "<table border=\"1\" class=\"dataframe\">\n",
       "  <thead>\n",
       "    <tr style=\"text-align: right;\">\n",
       "      <th></th>\n",
       "      <th>Fecha</th>\n",
       "      <th>Hora</th>\n",
       "      <th>Nombre</th>\n",
       "      <th>Programado</th>\n",
       "      <th>Dosificado</th>\n",
       "      <th>Tiempo</th>\n",
       "    </tr>\n",
       "  </thead>\n",
       "  <tbody>\n",
       "    <tr>\n",
       "      <th>0</th>\n",
       "      <td>2025-02-06</td>\n",
       "      <td>0 days 03:08:28</td>\n",
       "      <td>RECRIA 14 SIN PELETEAR (quebradora)</td>\n",
       "      <td>14000.0</td>\n",
       "      <td>14014.20</td>\n",
       "      <td>0 days 02:04:19</td>\n",
       "    </tr>\n",
       "    <tr>\n",
       "      <th>1</th>\n",
       "      <td>2025-02-06</td>\n",
       "      <td>0 days 05:16:27</td>\n",
       "      <td>CREC. MELAZA 12 % A.A...</td>\n",
       "      <td>2000.0</td>\n",
       "      <td>1993.35</td>\n",
       "      <td>0 days 00:15:37</td>\n",
       "    </tr>\n",
       "    <tr>\n",
       "      <th>2</th>\n",
       "      <td>2025-02-06</td>\n",
       "      <td>0 days 05:36:07</td>\n",
       "      <td>LIMPIEZA CIRCUITO</td>\n",
       "      <td>270.0</td>\n",
       "      <td>266.10</td>\n",
       "      <td>0 days 00:04:44</td>\n",
       "    </tr>\n",
       "    <tr>\n",
       "      <th>3</th>\n",
       "      <td>2025-02-06</td>\n",
       "      <td>0 days 05:43:34</td>\n",
       "      <td>DESARROLLO (LA MALVINA)...</td>\n",
       "      <td>12000.0</td>\n",
       "      <td>12005.10</td>\n",
       "      <td>0 days 01:09:02</td>\n",
       "    </tr>\n",
       "    <tr>\n",
       "      <th>4</th>\n",
       "      <td>2025-02-06</td>\n",
       "      <td>0 days 06:53:05</td>\n",
       "      <td>TERMINACIÓN (LA MALVINA)...</td>\n",
       "      <td>6000.0</td>\n",
       "      <td>1048.60</td>\n",
       "      <td>0 days 00:35:04</td>\n",
       "    </tr>\n",
       "    <tr>\n",
       "      <th>5</th>\n",
       "      <td>2025-02-06</td>\n",
       "      <td>0 days 07:28:09</td>\n",
       "      <td>TERMINACIÓN (LA MALVINA)...</td>\n",
       "      <td>4000.0</td>\n",
       "      <td>4008.80</td>\n",
       "      <td>0 days 00:26:24</td>\n",
       "    </tr>\n",
       "    <tr>\n",
       "      <th>6</th>\n",
       "      <td>2025-02-06</td>\n",
       "      <td>0 days 08:01:50</td>\n",
       "      <td>DESTETE PRECOZ MELAZA  10% A.A.</td>\n",
       "      <td>9990.0</td>\n",
       "      <td>10097.10</td>\n",
       "      <td>0 days 01:48:03</td>\n",
       "    </tr>\n",
       "    <tr>\n",
       "      <th>7</th>\n",
       "      <td>2025-02-06</td>\n",
       "      <td>0 days 09:51:17</td>\n",
       "      <td>INICIADOR MELAZA 14% A.A.</td>\n",
       "      <td>8000.0</td>\n",
       "      <td>4061.70</td>\n",
       "      <td>0 days 00:45:32</td>\n",
       "    </tr>\n",
       "    <tr>\n",
       "      <th>8</th>\n",
       "      <td>2025-02-06</td>\n",
       "      <td>0 days 10:36:49</td>\n",
       "      <td>INICIADOR MELAZA 14% A.A.</td>\n",
       "      <td>4000.0</td>\n",
       "      <td>4075.60</td>\n",
       "      <td>0 days 00:38:23</td>\n",
       "    </tr>\n",
       "    <tr>\n",
       "      <th>9</th>\n",
       "      <td>2025-02-06</td>\n",
       "      <td>0 days 11:16:02</td>\n",
       "      <td>VACA LECHERA 16 expeller.</td>\n",
       "      <td>4000.0</td>\n",
       "      <td>4050.95</td>\n",
       "      <td>0 days 00:43:45</td>\n",
       "    </tr>\n",
       "    <tr>\n",
       "      <th>10</th>\n",
       "      <td>2025-02-06</td>\n",
       "      <td>0 days 12:02:08</td>\n",
       "      <td>(LA MALVINA) DESARROLLO TERNEROS MAIZ CON SAL</td>\n",
       "      <td>4000.0</td>\n",
       "      <td>52.00</td>\n",
       "      <td>0 days 00:04:53</td>\n",
       "    </tr>\n",
       "    <tr>\n",
       "      <th>11</th>\n",
       "      <td>2025-02-06</td>\n",
       "      <td>0 days 12:09:20</td>\n",
       "      <td>(LA MALVINA) DESARROLLO TERNEROS MAIZ CON SAL</td>\n",
       "      <td>4000.0</td>\n",
       "      <td>4030.80</td>\n",
       "      <td>0 days 00:24:23</td>\n",
       "    </tr>\n",
       "    <tr>\n",
       "      <th>12</th>\n",
       "      <td>2025-02-06</td>\n",
       "      <td>0 days 12:37:59</td>\n",
       "      <td>ENGORDE BOVINO 14% A.A.</td>\n",
       "      <td>8000.0</td>\n",
       "      <td>8144.85</td>\n",
       "      <td>0 days 01:24:30</td>\n",
       "    </tr>\n",
       "    <tr>\n",
       "      <th>13</th>\n",
       "      <td>2025-02-06</td>\n",
       "      <td>0 days 14:03:30</td>\n",
       "      <td>CREC. MELAZA 12 % A.A...</td>\n",
       "      <td>8000.0</td>\n",
       "      <td>8170.40</td>\n",
       "      <td>0 days 01:28:34</td>\n",
       "    </tr>\n",
       "    <tr>\n",
       "      <th>14</th>\n",
       "      <td>2025-02-06</td>\n",
       "      <td>0 days 15:32:24</td>\n",
       "      <td>LIMPIEZA CIRCUITO</td>\n",
       "      <td>270.0</td>\n",
       "      <td>270.20</td>\n",
       "      <td>0 days 00:03:00</td>\n",
       "    </tr>\n",
       "    <tr>\n",
       "      <th>15</th>\n",
       "      <td>2025-02-06</td>\n",
       "      <td>0 days 15:42:46</td>\n",
       "      <td>TERMINACIÓN CERDOS SANCHEZ</td>\n",
       "      <td>10000.0</td>\n",
       "      <td>10027.30</td>\n",
       "      <td>0 days 01:08:41</td>\n",
       "    </tr>\n",
       "  </tbody>\n",
       "</table>\n",
       "</div>"
      ],
      "text/plain": [
       "         Fecha            Hora                                         Nombre  \\\n",
       "0   2025-02-06 0 days 03:08:28            RECRIA 14 SIN PELETEAR (quebradora)   \n",
       "1   2025-02-06 0 days 05:16:27                       CREC. MELAZA 12 % A.A...   \n",
       "2   2025-02-06 0 days 05:36:07                              LIMPIEZA CIRCUITO   \n",
       "3   2025-02-06 0 days 05:43:34                     DESARROLLO (LA MALVINA)...   \n",
       "4   2025-02-06 0 days 06:53:05                    TERMINACIÓN (LA MALVINA)...   \n",
       "5   2025-02-06 0 days 07:28:09                    TERMINACIÓN (LA MALVINA)...   \n",
       "6   2025-02-06 0 days 08:01:50                DESTETE PRECOZ MELAZA  10% A.A.   \n",
       "7   2025-02-06 0 days 09:51:17                      INICIADOR MELAZA 14% A.A.   \n",
       "8   2025-02-06 0 days 10:36:49                      INICIADOR MELAZA 14% A.A.   \n",
       "9   2025-02-06 0 days 11:16:02                      VACA LECHERA 16 expeller.   \n",
       "10  2025-02-06 0 days 12:02:08  (LA MALVINA) DESARROLLO TERNEROS MAIZ CON SAL   \n",
       "11  2025-02-06 0 days 12:09:20  (LA MALVINA) DESARROLLO TERNEROS MAIZ CON SAL   \n",
       "12  2025-02-06 0 days 12:37:59                        ENGORDE BOVINO 14% A.A.   \n",
       "13  2025-02-06 0 days 14:03:30                       CREC. MELAZA 12 % A.A...   \n",
       "14  2025-02-06 0 days 15:32:24                              LIMPIEZA CIRCUITO   \n",
       "15  2025-02-06 0 days 15:42:46                     TERMINACIÓN CERDOS SANCHEZ   \n",
       "\n",
       "    Programado  Dosificado          Tiempo  \n",
       "0      14000.0    14014.20 0 days 02:04:19  \n",
       "1       2000.0     1993.35 0 days 00:15:37  \n",
       "2        270.0      266.10 0 days 00:04:44  \n",
       "3      12000.0    12005.10 0 days 01:09:02  \n",
       "4       6000.0     1048.60 0 days 00:35:04  \n",
       "5       4000.0     4008.80 0 days 00:26:24  \n",
       "6       9990.0    10097.10 0 days 01:48:03  \n",
       "7       8000.0     4061.70 0 days 00:45:32  \n",
       "8       4000.0     4075.60 0 days 00:38:23  \n",
       "9       4000.0     4050.95 0 days 00:43:45  \n",
       "10      4000.0       52.00 0 days 00:04:53  \n",
       "11      4000.0     4030.80 0 days 00:24:23  \n",
       "12      8000.0     8144.85 0 days 01:24:30  \n",
       "13      8000.0     8170.40 0 days 01:28:34  \n",
       "14       270.0      270.20 0 days 00:03:00  \n",
       "15     10000.0    10027.30 0 days 01:08:41  "
      ]
     },
     "execution_count": 15,
     "metadata": {},
     "output_type": "execute_result"
    }
   ],
   "source": [
    "#Corregir los tiempos 0\n",
    "# Identificar filas con tiempo 0\n",
    "mask = df['Tiempo'] == pd.Timedelta(0)\n",
    "\n",
    "# Calcular la diferencia de hora con la siguiente fila\n",
    "df.loc[mask, 'Tiempo'] = df['Hora'].shift(-1) - df.loc[mask, 'Hora']\n",
    "df"
   ]
  },
  {
   "cell_type": "code",
   "execution_count": 16,
   "metadata": {},
   "outputs": [
    {
     "data": {
      "text/html": [
       "<div>\n",
       "<style scoped>\n",
       "    .dataframe tbody tr th:only-of-type {\n",
       "        vertical-align: middle;\n",
       "    }\n",
       "\n",
       "    .dataframe tbody tr th {\n",
       "        vertical-align: top;\n",
       "    }\n",
       "\n",
       "    .dataframe thead th {\n",
       "        text-align: right;\n",
       "    }\n",
       "</style>\n",
       "<table border=\"1\" class=\"dataframe\">\n",
       "  <thead>\n",
       "    <tr style=\"text-align: right;\">\n",
       "      <th></th>\n",
       "      <th>Fecha</th>\n",
       "      <th>Hora</th>\n",
       "      <th>Nombre</th>\n",
       "      <th>Programado</th>\n",
       "      <th>Dosificado</th>\n",
       "      <th>Tiempo</th>\n",
       "      <th>Rendimiento</th>\n",
       "    </tr>\n",
       "  </thead>\n",
       "  <tbody>\n",
       "    <tr>\n",
       "      <th>0</th>\n",
       "      <td>2025-02-06</td>\n",
       "      <td>0 days 03:08:28</td>\n",
       "      <td>RECRIA 14 SIN PELETEAR (quebradora)</td>\n",
       "      <td>14000.0</td>\n",
       "      <td>14014.20</td>\n",
       "      <td>0 days 02:04:19</td>\n",
       "      <td>6.763791</td>\n",
       "    </tr>\n",
       "    <tr>\n",
       "      <th>1</th>\n",
       "      <td>2025-02-06</td>\n",
       "      <td>0 days 05:16:27</td>\n",
       "      <td>CREC. MELAZA 12 % A.A...</td>\n",
       "      <td>2000.0</td>\n",
       "      <td>1993.35</td>\n",
       "      <td>0 days 00:15:37</td>\n",
       "      <td>7.658549</td>\n",
       "    </tr>\n",
       "    <tr>\n",
       "      <th>2</th>\n",
       "      <td>2025-02-06</td>\n",
       "      <td>0 days 05:36:07</td>\n",
       "      <td>LIMPIEZA CIRCUITO</td>\n",
       "      <td>270.0</td>\n",
       "      <td>266.10</td>\n",
       "      <td>0 days 00:04:44</td>\n",
       "      <td>3.373099</td>\n",
       "    </tr>\n",
       "    <tr>\n",
       "      <th>3</th>\n",
       "      <td>2025-02-06</td>\n",
       "      <td>0 days 05:43:34</td>\n",
       "      <td>DESARROLLO (LA MALVINA)...</td>\n",
       "      <td>12000.0</td>\n",
       "      <td>12005.10</td>\n",
       "      <td>0 days 01:09:02</td>\n",
       "      <td>10.434177</td>\n",
       "    </tr>\n",
       "    <tr>\n",
       "      <th>4</th>\n",
       "      <td>2025-02-06</td>\n",
       "      <td>0 days 06:53:05</td>\n",
       "      <td>TERMINACIÓN (LA MALVINA)...</td>\n",
       "      <td>6000.0</td>\n",
       "      <td>1048.60</td>\n",
       "      <td>0 days 00:35:04</td>\n",
       "      <td>1.794183</td>\n",
       "    </tr>\n",
       "    <tr>\n",
       "      <th>5</th>\n",
       "      <td>2025-02-06</td>\n",
       "      <td>0 days 07:28:09</td>\n",
       "      <td>TERMINACIÓN (LA MALVINA)...</td>\n",
       "      <td>4000.0</td>\n",
       "      <td>4008.80</td>\n",
       "      <td>0 days 00:26:24</td>\n",
       "      <td>9.110909</td>\n",
       "    </tr>\n",
       "    <tr>\n",
       "      <th>6</th>\n",
       "      <td>2025-02-06</td>\n",
       "      <td>0 days 08:01:50</td>\n",
       "      <td>DESTETE PRECOZ MELAZA  10% A.A.</td>\n",
       "      <td>9990.0</td>\n",
       "      <td>10097.10</td>\n",
       "      <td>0 days 01:48:03</td>\n",
       "      <td>5.606904</td>\n",
       "    </tr>\n",
       "    <tr>\n",
       "      <th>7</th>\n",
       "      <td>2025-02-06</td>\n",
       "      <td>0 days 09:51:17</td>\n",
       "      <td>INICIADOR MELAZA 14% A.A.</td>\n",
       "      <td>8000.0</td>\n",
       "      <td>4061.70</td>\n",
       "      <td>0 days 00:45:32</td>\n",
       "      <td>5.352167</td>\n",
       "    </tr>\n",
       "    <tr>\n",
       "      <th>8</th>\n",
       "      <td>2025-02-06</td>\n",
       "      <td>0 days 10:36:49</td>\n",
       "      <td>INICIADOR MELAZA 14% A.A.</td>\n",
       "      <td>4000.0</td>\n",
       "      <td>4075.60</td>\n",
       "      <td>0 days 00:38:23</td>\n",
       "      <td>6.370890</td>\n",
       "    </tr>\n",
       "    <tr>\n",
       "      <th>9</th>\n",
       "      <td>2025-02-06</td>\n",
       "      <td>0 days 11:16:02</td>\n",
       "      <td>VACA LECHERA 16 expeller.</td>\n",
       "      <td>4000.0</td>\n",
       "      <td>4050.95</td>\n",
       "      <td>0 days 00:43:45</td>\n",
       "      <td>5.555589</td>\n",
       "    </tr>\n",
       "    <tr>\n",
       "      <th>10</th>\n",
       "      <td>2025-02-06</td>\n",
       "      <td>0 days 12:02:08</td>\n",
       "      <td>(LA MALVINA) DESARROLLO TERNEROS MAIZ CON SAL</td>\n",
       "      <td>4000.0</td>\n",
       "      <td>52.00</td>\n",
       "      <td>0 days 00:04:53</td>\n",
       "      <td>0.638908</td>\n",
       "    </tr>\n",
       "    <tr>\n",
       "      <th>11</th>\n",
       "      <td>2025-02-06</td>\n",
       "      <td>0 days 12:09:20</td>\n",
       "      <td>(LA MALVINA) DESARROLLO TERNEROS MAIZ CON SAL</td>\n",
       "      <td>4000.0</td>\n",
       "      <td>4030.80</td>\n",
       "      <td>0 days 00:24:23</td>\n",
       "      <td>9.918578</td>\n",
       "    </tr>\n",
       "    <tr>\n",
       "      <th>12</th>\n",
       "      <td>2025-02-06</td>\n",
       "      <td>0 days 12:37:59</td>\n",
       "      <td>ENGORDE BOVINO 14% A.A.</td>\n",
       "      <td>8000.0</td>\n",
       "      <td>8144.85</td>\n",
       "      <td>0 days 01:24:30</td>\n",
       "      <td>5.783325</td>\n",
       "    </tr>\n",
       "    <tr>\n",
       "      <th>13</th>\n",
       "      <td>2025-02-06</td>\n",
       "      <td>0 days 14:03:30</td>\n",
       "      <td>CREC. MELAZA 12 % A.A...</td>\n",
       "      <td>8000.0</td>\n",
       "      <td>8170.40</td>\n",
       "      <td>0 days 01:28:34</td>\n",
       "      <td>5.535085</td>\n",
       "    </tr>\n",
       "    <tr>\n",
       "      <th>14</th>\n",
       "      <td>2025-02-06</td>\n",
       "      <td>0 days 15:32:24</td>\n",
       "      <td>LIMPIEZA CIRCUITO</td>\n",
       "      <td>270.0</td>\n",
       "      <td>270.20</td>\n",
       "      <td>0 days 00:03:00</td>\n",
       "      <td>5.404000</td>\n",
       "    </tr>\n",
       "    <tr>\n",
       "      <th>15</th>\n",
       "      <td>2025-02-06</td>\n",
       "      <td>0 days 15:42:46</td>\n",
       "      <td>TERMINACIÓN CERDOS SANCHEZ</td>\n",
       "      <td>10000.0</td>\n",
       "      <td>10027.30</td>\n",
       "      <td>0 days 01:08:41</td>\n",
       "      <td>8.759592</td>\n",
       "    </tr>\n",
       "  </tbody>\n",
       "</table>\n",
       "</div>"
      ],
      "text/plain": [
       "         Fecha            Hora                                         Nombre  \\\n",
       "0   2025-02-06 0 days 03:08:28            RECRIA 14 SIN PELETEAR (quebradora)   \n",
       "1   2025-02-06 0 days 05:16:27                       CREC. MELAZA 12 % A.A...   \n",
       "2   2025-02-06 0 days 05:36:07                              LIMPIEZA CIRCUITO   \n",
       "3   2025-02-06 0 days 05:43:34                     DESARROLLO (LA MALVINA)...   \n",
       "4   2025-02-06 0 days 06:53:05                    TERMINACIÓN (LA MALVINA)...   \n",
       "5   2025-02-06 0 days 07:28:09                    TERMINACIÓN (LA MALVINA)...   \n",
       "6   2025-02-06 0 days 08:01:50                DESTETE PRECOZ MELAZA  10% A.A.   \n",
       "7   2025-02-06 0 days 09:51:17                      INICIADOR MELAZA 14% A.A.   \n",
       "8   2025-02-06 0 days 10:36:49                      INICIADOR MELAZA 14% A.A.   \n",
       "9   2025-02-06 0 days 11:16:02                      VACA LECHERA 16 expeller.   \n",
       "10  2025-02-06 0 days 12:02:08  (LA MALVINA) DESARROLLO TERNEROS MAIZ CON SAL   \n",
       "11  2025-02-06 0 days 12:09:20  (LA MALVINA) DESARROLLO TERNEROS MAIZ CON SAL   \n",
       "12  2025-02-06 0 days 12:37:59                        ENGORDE BOVINO 14% A.A.   \n",
       "13  2025-02-06 0 days 14:03:30                       CREC. MELAZA 12 % A.A...   \n",
       "14  2025-02-06 0 days 15:32:24                              LIMPIEZA CIRCUITO   \n",
       "15  2025-02-06 0 days 15:42:46                     TERMINACIÓN CERDOS SANCHEZ   \n",
       "\n",
       "    Programado  Dosificado          Tiempo  Rendimiento  \n",
       "0      14000.0    14014.20 0 days 02:04:19     6.763791  \n",
       "1       2000.0     1993.35 0 days 00:15:37     7.658549  \n",
       "2        270.0      266.10 0 days 00:04:44     3.373099  \n",
       "3      12000.0    12005.10 0 days 01:09:02    10.434177  \n",
       "4       6000.0     1048.60 0 days 00:35:04     1.794183  \n",
       "5       4000.0     4008.80 0 days 00:26:24     9.110909  \n",
       "6       9990.0    10097.10 0 days 01:48:03     5.606904  \n",
       "7       8000.0     4061.70 0 days 00:45:32     5.352167  \n",
       "8       4000.0     4075.60 0 days 00:38:23     6.370890  \n",
       "9       4000.0     4050.95 0 days 00:43:45     5.555589  \n",
       "10      4000.0       52.00 0 days 00:04:53     0.638908  \n",
       "11      4000.0     4030.80 0 days 00:24:23     9.918578  \n",
       "12      8000.0     8144.85 0 days 01:24:30     5.783325  \n",
       "13      8000.0     8170.40 0 days 01:28:34     5.535085  \n",
       "14       270.0      270.20 0 days 00:03:00     5.404000  \n",
       "15     10000.0    10027.30 0 days 01:08:41     8.759592  "
      ]
     },
     "execution_count": 16,
     "metadata": {},
     "output_type": "execute_result"
    }
   ],
   "source": [
    "df['Rendimiento'] = (df['Dosificado'] / (df['Tiempo'].astype('int64')/3.6e12))/1000\n",
    "df"
   ]
  },
  {
   "cell_type": "markdown",
   "metadata": {},
   "source": [
    "## Gráficos"
   ]
  },
  {
   "cell_type": "code",
   "execution_count": 17,
   "metadata": {},
   "outputs": [],
   "source": [
    "import plotly.express as px\n"
   ]
  },
  {
   "cell_type": "code",
   "execution_count": 25,
   "metadata": {},
   "outputs": [
    {
     "data": {
      "application/vnd.plotly.v1+json": {
       "config": {
        "plotlyServerURL": "https://plot.ly"
       },
       "data": [
        {
         "hovertemplate": "x=%{x}<br>Dosificado=%{y}<extra></extra>",
         "legendgroup": "",
         "marker": {
          "color": "#636efa",
          "pattern": {
           "shape": ""
          }
         },
         "name": "",
         "orientation": "v",
         "showlegend": false,
         "textposition": "auto",
         "type": "bar",
         "x": [
          "0 days 03:08:28RECRIA 14 SIN PELETEAR (quebradora)",
          "0 days 05:16:27CREC. MELAZA 12 % A.A...",
          "0 days 05:36:07LIMPIEZA CIRCUITO",
          "0 days 05:43:34DESARROLLO (LA MALVINA)...",
          "0 days 06:53:05TERMINACIÓN (LA MALVINA)...",
          "0 days 07:28:09TERMINACIÓN (LA MALVINA)...",
          "0 days 08:01:50DESTETE PRECOZ MELAZA  10% A.A.",
          "0 days 09:51:17INICIADOR MELAZA 14% A.A.",
          "0 days 10:36:49INICIADOR MELAZA 14% A.A.",
          "0 days 11:16:02VACA LECHERA 16 expeller.",
          "0 days 12:02:08(LA MALVINA) DESARROLLO TERNEROS MAIZ CON SAL",
          "0 days 12:09:20(LA MALVINA) DESARROLLO TERNEROS MAIZ CON SAL",
          "0 days 12:37:59ENGORDE BOVINO 14% A.A.",
          "0 days 14:03:30CREC. MELAZA 12 % A.A...",
          "0 days 15:32:24LIMPIEZA CIRCUITO",
          "0 days 15:42:46TERMINACIÓN CERDOS SANCHEZ"
         ],
         "xaxis": "x",
         "y": {
          "bdata": "mpmZmRlfy0BmZmZmZiWfQJqZmZmZoXBAzczMzIxyx0BmZmZmZmKQQJqZmZmZUa9AzczMzIy4w0BmZmZmZruvQDMzMzMz169AZmZmZualr0AAAAAAAABKQJqZmZmZfa9AmpmZmdnQv0BmZmZmZuq/QDMzMzMz43BAZmZmZqaVw0A=",
          "dtype": "f8"
         },
         "yaxis": "y"
        }
       ],
       "layout": {
        "barmode": "relative",
        "legend": {
         "tracegroupgap": 0
        },
        "template": {
         "data": {
          "bar": [
           {
            "error_x": {
             "color": "#2a3f5f"
            },
            "error_y": {
             "color": "#2a3f5f"
            },
            "marker": {
             "line": {
              "color": "#E5ECF6",
              "width": 0.5
             },
             "pattern": {
              "fillmode": "overlay",
              "size": 10,
              "solidity": 0.2
             }
            },
            "type": "bar"
           }
          ],
          "barpolar": [
           {
            "marker": {
             "line": {
              "color": "#E5ECF6",
              "width": 0.5
             },
             "pattern": {
              "fillmode": "overlay",
              "size": 10,
              "solidity": 0.2
             }
            },
            "type": "barpolar"
           }
          ],
          "carpet": [
           {
            "aaxis": {
             "endlinecolor": "#2a3f5f",
             "gridcolor": "white",
             "linecolor": "white",
             "minorgridcolor": "white",
             "startlinecolor": "#2a3f5f"
            },
            "baxis": {
             "endlinecolor": "#2a3f5f",
             "gridcolor": "white",
             "linecolor": "white",
             "minorgridcolor": "white",
             "startlinecolor": "#2a3f5f"
            },
            "type": "carpet"
           }
          ],
          "choropleth": [
           {
            "colorbar": {
             "outlinewidth": 0,
             "ticks": ""
            },
            "type": "choropleth"
           }
          ],
          "contour": [
           {
            "colorbar": {
             "outlinewidth": 0,
             "ticks": ""
            },
            "colorscale": [
             [
              0,
              "#0d0887"
             ],
             [
              0.1111111111111111,
              "#46039f"
             ],
             [
              0.2222222222222222,
              "#7201a8"
             ],
             [
              0.3333333333333333,
              "#9c179e"
             ],
             [
              0.4444444444444444,
              "#bd3786"
             ],
             [
              0.5555555555555556,
              "#d8576b"
             ],
             [
              0.6666666666666666,
              "#ed7953"
             ],
             [
              0.7777777777777778,
              "#fb9f3a"
             ],
             [
              0.8888888888888888,
              "#fdca26"
             ],
             [
              1,
              "#f0f921"
             ]
            ],
            "type": "contour"
           }
          ],
          "contourcarpet": [
           {
            "colorbar": {
             "outlinewidth": 0,
             "ticks": ""
            },
            "type": "contourcarpet"
           }
          ],
          "heatmap": [
           {
            "colorbar": {
             "outlinewidth": 0,
             "ticks": ""
            },
            "colorscale": [
             [
              0,
              "#0d0887"
             ],
             [
              0.1111111111111111,
              "#46039f"
             ],
             [
              0.2222222222222222,
              "#7201a8"
             ],
             [
              0.3333333333333333,
              "#9c179e"
             ],
             [
              0.4444444444444444,
              "#bd3786"
             ],
             [
              0.5555555555555556,
              "#d8576b"
             ],
             [
              0.6666666666666666,
              "#ed7953"
             ],
             [
              0.7777777777777778,
              "#fb9f3a"
             ],
             [
              0.8888888888888888,
              "#fdca26"
             ],
             [
              1,
              "#f0f921"
             ]
            ],
            "type": "heatmap"
           }
          ],
          "histogram": [
           {
            "marker": {
             "pattern": {
              "fillmode": "overlay",
              "size": 10,
              "solidity": 0.2
             }
            },
            "type": "histogram"
           }
          ],
          "histogram2d": [
           {
            "colorbar": {
             "outlinewidth": 0,
             "ticks": ""
            },
            "colorscale": [
             [
              0,
              "#0d0887"
             ],
             [
              0.1111111111111111,
              "#46039f"
             ],
             [
              0.2222222222222222,
              "#7201a8"
             ],
             [
              0.3333333333333333,
              "#9c179e"
             ],
             [
              0.4444444444444444,
              "#bd3786"
             ],
             [
              0.5555555555555556,
              "#d8576b"
             ],
             [
              0.6666666666666666,
              "#ed7953"
             ],
             [
              0.7777777777777778,
              "#fb9f3a"
             ],
             [
              0.8888888888888888,
              "#fdca26"
             ],
             [
              1,
              "#f0f921"
             ]
            ],
            "type": "histogram2d"
           }
          ],
          "histogram2dcontour": [
           {
            "colorbar": {
             "outlinewidth": 0,
             "ticks": ""
            },
            "colorscale": [
             [
              0,
              "#0d0887"
             ],
             [
              0.1111111111111111,
              "#46039f"
             ],
             [
              0.2222222222222222,
              "#7201a8"
             ],
             [
              0.3333333333333333,
              "#9c179e"
             ],
             [
              0.4444444444444444,
              "#bd3786"
             ],
             [
              0.5555555555555556,
              "#d8576b"
             ],
             [
              0.6666666666666666,
              "#ed7953"
             ],
             [
              0.7777777777777778,
              "#fb9f3a"
             ],
             [
              0.8888888888888888,
              "#fdca26"
             ],
             [
              1,
              "#f0f921"
             ]
            ],
            "type": "histogram2dcontour"
           }
          ],
          "mesh3d": [
           {
            "colorbar": {
             "outlinewidth": 0,
             "ticks": ""
            },
            "type": "mesh3d"
           }
          ],
          "parcoords": [
           {
            "line": {
             "colorbar": {
              "outlinewidth": 0,
              "ticks": ""
             }
            },
            "type": "parcoords"
           }
          ],
          "pie": [
           {
            "automargin": true,
            "type": "pie"
           }
          ],
          "scatter": [
           {
            "fillpattern": {
             "fillmode": "overlay",
             "size": 10,
             "solidity": 0.2
            },
            "type": "scatter"
           }
          ],
          "scatter3d": [
           {
            "line": {
             "colorbar": {
              "outlinewidth": 0,
              "ticks": ""
             }
            },
            "marker": {
             "colorbar": {
              "outlinewidth": 0,
              "ticks": ""
             }
            },
            "type": "scatter3d"
           }
          ],
          "scattercarpet": [
           {
            "marker": {
             "colorbar": {
              "outlinewidth": 0,
              "ticks": ""
             }
            },
            "type": "scattercarpet"
           }
          ],
          "scattergeo": [
           {
            "marker": {
             "colorbar": {
              "outlinewidth": 0,
              "ticks": ""
             }
            },
            "type": "scattergeo"
           }
          ],
          "scattergl": [
           {
            "marker": {
             "colorbar": {
              "outlinewidth": 0,
              "ticks": ""
             }
            },
            "type": "scattergl"
           }
          ],
          "scattermap": [
           {
            "marker": {
             "colorbar": {
              "outlinewidth": 0,
              "ticks": ""
             }
            },
            "type": "scattermap"
           }
          ],
          "scattermapbox": [
           {
            "marker": {
             "colorbar": {
              "outlinewidth": 0,
              "ticks": ""
             }
            },
            "type": "scattermapbox"
           }
          ],
          "scatterpolar": [
           {
            "marker": {
             "colorbar": {
              "outlinewidth": 0,
              "ticks": ""
             }
            },
            "type": "scatterpolar"
           }
          ],
          "scatterpolargl": [
           {
            "marker": {
             "colorbar": {
              "outlinewidth": 0,
              "ticks": ""
             }
            },
            "type": "scatterpolargl"
           }
          ],
          "scatterternary": [
           {
            "marker": {
             "colorbar": {
              "outlinewidth": 0,
              "ticks": ""
             }
            },
            "type": "scatterternary"
           }
          ],
          "surface": [
           {
            "colorbar": {
             "outlinewidth": 0,
             "ticks": ""
            },
            "colorscale": [
             [
              0,
              "#0d0887"
             ],
             [
              0.1111111111111111,
              "#46039f"
             ],
             [
              0.2222222222222222,
              "#7201a8"
             ],
             [
              0.3333333333333333,
              "#9c179e"
             ],
             [
              0.4444444444444444,
              "#bd3786"
             ],
             [
              0.5555555555555556,
              "#d8576b"
             ],
             [
              0.6666666666666666,
              "#ed7953"
             ],
             [
              0.7777777777777778,
              "#fb9f3a"
             ],
             [
              0.8888888888888888,
              "#fdca26"
             ],
             [
              1,
              "#f0f921"
             ]
            ],
            "type": "surface"
           }
          ],
          "table": [
           {
            "cells": {
             "fill": {
              "color": "#EBF0F8"
             },
             "line": {
              "color": "white"
             }
            },
            "header": {
             "fill": {
              "color": "#C8D4E3"
             },
             "line": {
              "color": "white"
             }
            },
            "type": "table"
           }
          ]
         },
         "layout": {
          "annotationdefaults": {
           "arrowcolor": "#2a3f5f",
           "arrowhead": 0,
           "arrowwidth": 1
          },
          "autotypenumbers": "strict",
          "coloraxis": {
           "colorbar": {
            "outlinewidth": 0,
            "ticks": ""
           }
          },
          "colorscale": {
           "diverging": [
            [
             0,
             "#8e0152"
            ],
            [
             0.1,
             "#c51b7d"
            ],
            [
             0.2,
             "#de77ae"
            ],
            [
             0.3,
             "#f1b6da"
            ],
            [
             0.4,
             "#fde0ef"
            ],
            [
             0.5,
             "#f7f7f7"
            ],
            [
             0.6,
             "#e6f5d0"
            ],
            [
             0.7,
             "#b8e186"
            ],
            [
             0.8,
             "#7fbc41"
            ],
            [
             0.9,
             "#4d9221"
            ],
            [
             1,
             "#276419"
            ]
           ],
           "sequential": [
            [
             0,
             "#0d0887"
            ],
            [
             0.1111111111111111,
             "#46039f"
            ],
            [
             0.2222222222222222,
             "#7201a8"
            ],
            [
             0.3333333333333333,
             "#9c179e"
            ],
            [
             0.4444444444444444,
             "#bd3786"
            ],
            [
             0.5555555555555556,
             "#d8576b"
            ],
            [
             0.6666666666666666,
             "#ed7953"
            ],
            [
             0.7777777777777778,
             "#fb9f3a"
            ],
            [
             0.8888888888888888,
             "#fdca26"
            ],
            [
             1,
             "#f0f921"
            ]
           ],
           "sequentialminus": [
            [
             0,
             "#0d0887"
            ],
            [
             0.1111111111111111,
             "#46039f"
            ],
            [
             0.2222222222222222,
             "#7201a8"
            ],
            [
             0.3333333333333333,
             "#9c179e"
            ],
            [
             0.4444444444444444,
             "#bd3786"
            ],
            [
             0.5555555555555556,
             "#d8576b"
            ],
            [
             0.6666666666666666,
             "#ed7953"
            ],
            [
             0.7777777777777778,
             "#fb9f3a"
            ],
            [
             0.8888888888888888,
             "#fdca26"
            ],
            [
             1,
             "#f0f921"
            ]
           ]
          },
          "colorway": [
           "#636efa",
           "#EF553B",
           "#00cc96",
           "#ab63fa",
           "#FFA15A",
           "#19d3f3",
           "#FF6692",
           "#B6E880",
           "#FF97FF",
           "#FECB52"
          ],
          "font": {
           "color": "#2a3f5f"
          },
          "geo": {
           "bgcolor": "white",
           "lakecolor": "white",
           "landcolor": "#E5ECF6",
           "showlakes": true,
           "showland": true,
           "subunitcolor": "white"
          },
          "hoverlabel": {
           "align": "left"
          },
          "hovermode": "closest",
          "mapbox": {
           "style": "light"
          },
          "paper_bgcolor": "white",
          "plot_bgcolor": "#E5ECF6",
          "polar": {
           "angularaxis": {
            "gridcolor": "white",
            "linecolor": "white",
            "ticks": ""
           },
           "bgcolor": "#E5ECF6",
           "radialaxis": {
            "gridcolor": "white",
            "linecolor": "white",
            "ticks": ""
           }
          },
          "scene": {
           "xaxis": {
            "backgroundcolor": "#E5ECF6",
            "gridcolor": "white",
            "gridwidth": 2,
            "linecolor": "white",
            "showbackground": true,
            "ticks": "",
            "zerolinecolor": "white"
           },
           "yaxis": {
            "backgroundcolor": "#E5ECF6",
            "gridcolor": "white",
            "gridwidth": 2,
            "linecolor": "white",
            "showbackground": true,
            "ticks": "",
            "zerolinecolor": "white"
           },
           "zaxis": {
            "backgroundcolor": "#E5ECF6",
            "gridcolor": "white",
            "gridwidth": 2,
            "linecolor": "white",
            "showbackground": true,
            "ticks": "",
            "zerolinecolor": "white"
           }
          },
          "shapedefaults": {
           "line": {
            "color": "#2a3f5f"
           }
          },
          "ternary": {
           "aaxis": {
            "gridcolor": "white",
            "linecolor": "white",
            "ticks": ""
           },
           "baxis": {
            "gridcolor": "white",
            "linecolor": "white",
            "ticks": ""
           },
           "bgcolor": "#E5ECF6",
           "caxis": {
            "gridcolor": "white",
            "linecolor": "white",
            "ticks": ""
           }
          },
          "title": {
           "x": 0.05
          },
          "xaxis": {
           "automargin": true,
           "gridcolor": "white",
           "linecolor": "white",
           "ticks": "",
           "title": {
            "standoff": 15
           },
           "zerolinecolor": "white",
           "zerolinewidth": 2
          },
          "yaxis": {
           "automargin": true,
           "gridcolor": "white",
           "linecolor": "white",
           "ticks": "",
           "title": {
            "standoff": 15
           },
           "zerolinecolor": "white",
           "zerolinewidth": 2
          }
         }
        },
        "title": {
         "text": "Producción por Producto"
        },
        "xaxis": {
         "anchor": "y",
         "domain": [
          0,
          1
         ],
         "title": {
          "text": "x"
         }
        },
        "yaxis": {
         "anchor": "x",
         "domain": [
          0,
          1
         ],
         "title": {
          "text": "Dosificado"
         }
        }
       }
      }
     },
     "metadata": {},
     "output_type": "display_data"
    }
   ],
   "source": [
    "nombre = df['Hora'].astype('str') + df['Nombre']\n",
    "\n",
    "# Crear gráfico de barras\n",
    "fig = px.bar(df, x=nombre, y='Dosificado', title='Producción por Producto')\n",
    "\n",
    "# Mostrar el gráfico\n",
    "fig.show()"
   ]
  },
  {
   "cell_type": "code",
   "execution_count": 29,
   "metadata": {},
   "outputs": [
    {
     "data": {
      "application/vnd.plotly.v1+json": {
       "config": {
        "plotlyServerURL": "https://plot.ly"
       },
       "data": [
        {
         "hovertemplate": "Hora=%{x}<br>Rendimiento=%{y}<extra></extra>",
         "legendgroup": "",
         "line": {
          "color": "#636efa",
          "dash": "solid"
         },
         "marker": {
          "symbol": "circle"
         },
         "mode": "lines",
         "name": "",
         "orientation": "v",
         "showlegend": false,
         "type": "scatter",
         "x": [
          11308000000000,
          18987000000000,
          20167000000000,
          20614000000000,
          24785000000000,
          26889000000000,
          28910000000000,
          35477000000000,
          38209000000000,
          40562000000000,
          43328000000000,
          43760000000000,
          45479000000000,
          50610000000000,
          55944000000000,
          56566000000000
         ],
         "xaxis": "x",
         "y": {
          "bdata": "ura2VB8OG0AP6bKNWqIeQGUaRx0b/ApAf5dvaUzeJECDHRa4+LT8PzmRjBPJOCJA5W0oTHhtFkBBjlBxnmgVQG1hL6DKexlAr0ThNew4FkCBlwXg7nHkP94H5ONP1iNAVMKsECAiF0DNpCY97SMWQANWDi2ynRVAMRtASemEIUA=",
          "dtype": "f8"
         },
         "yaxis": "y"
        }
       ],
       "layout": {
        "legend": {
         "tracegroupgap": 0
        },
        "template": {
         "data": {
          "bar": [
           {
            "error_x": {
             "color": "#2a3f5f"
            },
            "error_y": {
             "color": "#2a3f5f"
            },
            "marker": {
             "line": {
              "color": "#E5ECF6",
              "width": 0.5
             },
             "pattern": {
              "fillmode": "overlay",
              "size": 10,
              "solidity": 0.2
             }
            },
            "type": "bar"
           }
          ],
          "barpolar": [
           {
            "marker": {
             "line": {
              "color": "#E5ECF6",
              "width": 0.5
             },
             "pattern": {
              "fillmode": "overlay",
              "size": 10,
              "solidity": 0.2
             }
            },
            "type": "barpolar"
           }
          ],
          "carpet": [
           {
            "aaxis": {
             "endlinecolor": "#2a3f5f",
             "gridcolor": "white",
             "linecolor": "white",
             "minorgridcolor": "white",
             "startlinecolor": "#2a3f5f"
            },
            "baxis": {
             "endlinecolor": "#2a3f5f",
             "gridcolor": "white",
             "linecolor": "white",
             "minorgridcolor": "white",
             "startlinecolor": "#2a3f5f"
            },
            "type": "carpet"
           }
          ],
          "choropleth": [
           {
            "colorbar": {
             "outlinewidth": 0,
             "ticks": ""
            },
            "type": "choropleth"
           }
          ],
          "contour": [
           {
            "colorbar": {
             "outlinewidth": 0,
             "ticks": ""
            },
            "colorscale": [
             [
              0,
              "#0d0887"
             ],
             [
              0.1111111111111111,
              "#46039f"
             ],
             [
              0.2222222222222222,
              "#7201a8"
             ],
             [
              0.3333333333333333,
              "#9c179e"
             ],
             [
              0.4444444444444444,
              "#bd3786"
             ],
             [
              0.5555555555555556,
              "#d8576b"
             ],
             [
              0.6666666666666666,
              "#ed7953"
             ],
             [
              0.7777777777777778,
              "#fb9f3a"
             ],
             [
              0.8888888888888888,
              "#fdca26"
             ],
             [
              1,
              "#f0f921"
             ]
            ],
            "type": "contour"
           }
          ],
          "contourcarpet": [
           {
            "colorbar": {
             "outlinewidth": 0,
             "ticks": ""
            },
            "type": "contourcarpet"
           }
          ],
          "heatmap": [
           {
            "colorbar": {
             "outlinewidth": 0,
             "ticks": ""
            },
            "colorscale": [
             [
              0,
              "#0d0887"
             ],
             [
              0.1111111111111111,
              "#46039f"
             ],
             [
              0.2222222222222222,
              "#7201a8"
             ],
             [
              0.3333333333333333,
              "#9c179e"
             ],
             [
              0.4444444444444444,
              "#bd3786"
             ],
             [
              0.5555555555555556,
              "#d8576b"
             ],
             [
              0.6666666666666666,
              "#ed7953"
             ],
             [
              0.7777777777777778,
              "#fb9f3a"
             ],
             [
              0.8888888888888888,
              "#fdca26"
             ],
             [
              1,
              "#f0f921"
             ]
            ],
            "type": "heatmap"
           }
          ],
          "histogram": [
           {
            "marker": {
             "pattern": {
              "fillmode": "overlay",
              "size": 10,
              "solidity": 0.2
             }
            },
            "type": "histogram"
           }
          ],
          "histogram2d": [
           {
            "colorbar": {
             "outlinewidth": 0,
             "ticks": ""
            },
            "colorscale": [
             [
              0,
              "#0d0887"
             ],
             [
              0.1111111111111111,
              "#46039f"
             ],
             [
              0.2222222222222222,
              "#7201a8"
             ],
             [
              0.3333333333333333,
              "#9c179e"
             ],
             [
              0.4444444444444444,
              "#bd3786"
             ],
             [
              0.5555555555555556,
              "#d8576b"
             ],
             [
              0.6666666666666666,
              "#ed7953"
             ],
             [
              0.7777777777777778,
              "#fb9f3a"
             ],
             [
              0.8888888888888888,
              "#fdca26"
             ],
             [
              1,
              "#f0f921"
             ]
            ],
            "type": "histogram2d"
           }
          ],
          "histogram2dcontour": [
           {
            "colorbar": {
             "outlinewidth": 0,
             "ticks": ""
            },
            "colorscale": [
             [
              0,
              "#0d0887"
             ],
             [
              0.1111111111111111,
              "#46039f"
             ],
             [
              0.2222222222222222,
              "#7201a8"
             ],
             [
              0.3333333333333333,
              "#9c179e"
             ],
             [
              0.4444444444444444,
              "#bd3786"
             ],
             [
              0.5555555555555556,
              "#d8576b"
             ],
             [
              0.6666666666666666,
              "#ed7953"
             ],
             [
              0.7777777777777778,
              "#fb9f3a"
             ],
             [
              0.8888888888888888,
              "#fdca26"
             ],
             [
              1,
              "#f0f921"
             ]
            ],
            "type": "histogram2dcontour"
           }
          ],
          "mesh3d": [
           {
            "colorbar": {
             "outlinewidth": 0,
             "ticks": ""
            },
            "type": "mesh3d"
           }
          ],
          "parcoords": [
           {
            "line": {
             "colorbar": {
              "outlinewidth": 0,
              "ticks": ""
             }
            },
            "type": "parcoords"
           }
          ],
          "pie": [
           {
            "automargin": true,
            "type": "pie"
           }
          ],
          "scatter": [
           {
            "fillpattern": {
             "fillmode": "overlay",
             "size": 10,
             "solidity": 0.2
            },
            "type": "scatter"
           }
          ],
          "scatter3d": [
           {
            "line": {
             "colorbar": {
              "outlinewidth": 0,
              "ticks": ""
             }
            },
            "marker": {
             "colorbar": {
              "outlinewidth": 0,
              "ticks": ""
             }
            },
            "type": "scatter3d"
           }
          ],
          "scattercarpet": [
           {
            "marker": {
             "colorbar": {
              "outlinewidth": 0,
              "ticks": ""
             }
            },
            "type": "scattercarpet"
           }
          ],
          "scattergeo": [
           {
            "marker": {
             "colorbar": {
              "outlinewidth": 0,
              "ticks": ""
             }
            },
            "type": "scattergeo"
           }
          ],
          "scattergl": [
           {
            "marker": {
             "colorbar": {
              "outlinewidth": 0,
              "ticks": ""
             }
            },
            "type": "scattergl"
           }
          ],
          "scattermap": [
           {
            "marker": {
             "colorbar": {
              "outlinewidth": 0,
              "ticks": ""
             }
            },
            "type": "scattermap"
           }
          ],
          "scattermapbox": [
           {
            "marker": {
             "colorbar": {
              "outlinewidth": 0,
              "ticks": ""
             }
            },
            "type": "scattermapbox"
           }
          ],
          "scatterpolar": [
           {
            "marker": {
             "colorbar": {
              "outlinewidth": 0,
              "ticks": ""
             }
            },
            "type": "scatterpolar"
           }
          ],
          "scatterpolargl": [
           {
            "marker": {
             "colorbar": {
              "outlinewidth": 0,
              "ticks": ""
             }
            },
            "type": "scatterpolargl"
           }
          ],
          "scatterternary": [
           {
            "marker": {
             "colorbar": {
              "outlinewidth": 0,
              "ticks": ""
             }
            },
            "type": "scatterternary"
           }
          ],
          "surface": [
           {
            "colorbar": {
             "outlinewidth": 0,
             "ticks": ""
            },
            "colorscale": [
             [
              0,
              "#0d0887"
             ],
             [
              0.1111111111111111,
              "#46039f"
             ],
             [
              0.2222222222222222,
              "#7201a8"
             ],
             [
              0.3333333333333333,
              "#9c179e"
             ],
             [
              0.4444444444444444,
              "#bd3786"
             ],
             [
              0.5555555555555556,
              "#d8576b"
             ],
             [
              0.6666666666666666,
              "#ed7953"
             ],
             [
              0.7777777777777778,
              "#fb9f3a"
             ],
             [
              0.8888888888888888,
              "#fdca26"
             ],
             [
              1,
              "#f0f921"
             ]
            ],
            "type": "surface"
           }
          ],
          "table": [
           {
            "cells": {
             "fill": {
              "color": "#EBF0F8"
             },
             "line": {
              "color": "white"
             }
            },
            "header": {
             "fill": {
              "color": "#C8D4E3"
             },
             "line": {
              "color": "white"
             }
            },
            "type": "table"
           }
          ]
         },
         "layout": {
          "annotationdefaults": {
           "arrowcolor": "#2a3f5f",
           "arrowhead": 0,
           "arrowwidth": 1
          },
          "autotypenumbers": "strict",
          "coloraxis": {
           "colorbar": {
            "outlinewidth": 0,
            "ticks": ""
           }
          },
          "colorscale": {
           "diverging": [
            [
             0,
             "#8e0152"
            ],
            [
             0.1,
             "#c51b7d"
            ],
            [
             0.2,
             "#de77ae"
            ],
            [
             0.3,
             "#f1b6da"
            ],
            [
             0.4,
             "#fde0ef"
            ],
            [
             0.5,
             "#f7f7f7"
            ],
            [
             0.6,
             "#e6f5d0"
            ],
            [
             0.7,
             "#b8e186"
            ],
            [
             0.8,
             "#7fbc41"
            ],
            [
             0.9,
             "#4d9221"
            ],
            [
             1,
             "#276419"
            ]
           ],
           "sequential": [
            [
             0,
             "#0d0887"
            ],
            [
             0.1111111111111111,
             "#46039f"
            ],
            [
             0.2222222222222222,
             "#7201a8"
            ],
            [
             0.3333333333333333,
             "#9c179e"
            ],
            [
             0.4444444444444444,
             "#bd3786"
            ],
            [
             0.5555555555555556,
             "#d8576b"
            ],
            [
             0.6666666666666666,
             "#ed7953"
            ],
            [
             0.7777777777777778,
             "#fb9f3a"
            ],
            [
             0.8888888888888888,
             "#fdca26"
            ],
            [
             1,
             "#f0f921"
            ]
           ],
           "sequentialminus": [
            [
             0,
             "#0d0887"
            ],
            [
             0.1111111111111111,
             "#46039f"
            ],
            [
             0.2222222222222222,
             "#7201a8"
            ],
            [
             0.3333333333333333,
             "#9c179e"
            ],
            [
             0.4444444444444444,
             "#bd3786"
            ],
            [
             0.5555555555555556,
             "#d8576b"
            ],
            [
             0.6666666666666666,
             "#ed7953"
            ],
            [
             0.7777777777777778,
             "#fb9f3a"
            ],
            [
             0.8888888888888888,
             "#fdca26"
            ],
            [
             1,
             "#f0f921"
            ]
           ]
          },
          "colorway": [
           "#636efa",
           "#EF553B",
           "#00cc96",
           "#ab63fa",
           "#FFA15A",
           "#19d3f3",
           "#FF6692",
           "#B6E880",
           "#FF97FF",
           "#FECB52"
          ],
          "font": {
           "color": "#2a3f5f"
          },
          "geo": {
           "bgcolor": "white",
           "lakecolor": "white",
           "landcolor": "#E5ECF6",
           "showlakes": true,
           "showland": true,
           "subunitcolor": "white"
          },
          "hoverlabel": {
           "align": "left"
          },
          "hovermode": "closest",
          "mapbox": {
           "style": "light"
          },
          "paper_bgcolor": "white",
          "plot_bgcolor": "#E5ECF6",
          "polar": {
           "angularaxis": {
            "gridcolor": "white",
            "linecolor": "white",
            "ticks": ""
           },
           "bgcolor": "#E5ECF6",
           "radialaxis": {
            "gridcolor": "white",
            "linecolor": "white",
            "ticks": ""
           }
          },
          "scene": {
           "xaxis": {
            "backgroundcolor": "#E5ECF6",
            "gridcolor": "white",
            "gridwidth": 2,
            "linecolor": "white",
            "showbackground": true,
            "ticks": "",
            "zerolinecolor": "white"
           },
           "yaxis": {
            "backgroundcolor": "#E5ECF6",
            "gridcolor": "white",
            "gridwidth": 2,
            "linecolor": "white",
            "showbackground": true,
            "ticks": "",
            "zerolinecolor": "white"
           },
           "zaxis": {
            "backgroundcolor": "#E5ECF6",
            "gridcolor": "white",
            "gridwidth": 2,
            "linecolor": "white",
            "showbackground": true,
            "ticks": "",
            "zerolinecolor": "white"
           }
          },
          "shapedefaults": {
           "line": {
            "color": "#2a3f5f"
           }
          },
          "ternary": {
           "aaxis": {
            "gridcolor": "white",
            "linecolor": "white",
            "ticks": ""
           },
           "baxis": {
            "gridcolor": "white",
            "linecolor": "white",
            "ticks": ""
           },
           "bgcolor": "#E5ECF6",
           "caxis": {
            "gridcolor": "white",
            "linecolor": "white",
            "ticks": ""
           }
          },
          "title": {
           "x": 0.05
          },
          "xaxis": {
           "automargin": true,
           "gridcolor": "white",
           "linecolor": "white",
           "ticks": "",
           "title": {
            "standoff": 15
           },
           "zerolinecolor": "white",
           "zerolinewidth": 2
          },
          "yaxis": {
           "automargin": true,
           "gridcolor": "white",
           "linecolor": "white",
           "ticks": "",
           "title": {
            "standoff": 15
           },
           "zerolinecolor": "white",
           "zerolinewidth": 2
          }
         }
        },
        "title": {
         "text": "Rendimiento por Producto"
        },
        "xaxis": {
         "anchor": "y",
         "domain": [
          0,
          1
         ],
         "title": {
          "text": "Hora"
         }
        },
        "yaxis": {
         "anchor": "x",
         "domain": [
          0,
          1
         ],
         "title": {
          "text": "Rendimiento"
         }
        }
       }
      }
     },
     "metadata": {},
     "output_type": "display_data"
    }
   ],
   "source": [
    "# Crear gráfico de barras\n",
    "fig = px.line(df, x='Hora', y='Rendimiento', title='Rendimiento por Producto')\n",
    "\n",
    "# Mostrar el gráfico\n",
    "fig.show()"
   ]
  },
  {
   "cell_type": "code",
   "execution_count": 23,
   "metadata": {},
   "outputs": [
    {
     "data": {
      "application/vnd.plotly.v1+json": {
       "config": {
        "plotlyServerURL": "https://plot.ly"
       },
       "data": [
        {
         "type": "bar",
         "x": [
          "0 days 03:08:28RECRIA 14 SIN PELETEAR (quebradora)",
          "0 days 05:16:27CREC. MELAZA 12 % A.A...",
          "0 days 05:36:07LIMPIEZA CIRCUITO",
          "0 days 05:43:34DESARROLLO (LA MALVINA)...",
          "0 days 06:53:05TERMINACIÓN (LA MALVINA)...",
          "0 days 07:28:09TERMINACIÓN (LA MALVINA)...",
          "0 days 08:01:50DESTETE PRECOZ MELAZA  10% A.A.",
          "0 days 09:51:17INICIADOR MELAZA 14% A.A.",
          "0 days 10:36:49INICIADOR MELAZA 14% A.A.",
          "0 days 11:16:02VACA LECHERA 16 expeller.",
          "0 days 12:02:08(LA MALVINA) DESARROLLO TERNEROS MAIZ CON SAL",
          "0 days 12:09:20(LA MALVINA) DESARROLLO TERNEROS MAIZ CON SAL",
          "0 days 12:37:59ENGORDE BOVINO 14% A.A.",
          "0 days 14:03:30CREC. MELAZA 12 % A.A...",
          "0 days 15:32:24LIMPIEZA CIRCUITO",
          "0 days 15:42:46TERMINACIÓN CERDOS SANCHEZ"
         ],
         "y": {
          "bdata": "mpmZmRlfy0BmZmZmZiWfQJqZmZmZoXBAzczMzIxyx0BmZmZmZmKQQJqZmZmZUa9AzczMzIy4w0BmZmZmZruvQDMzMzMz169AZmZmZualr0AAAAAAAABKQJqZmZmZfa9AmpmZmdnQv0BmZmZmZuq/QDMzMzMz43BAZmZmZqaVw0A=",
          "dtype": "f8"
         }
        }
       ],
       "layout": {
        "template": {
         "data": {
          "bar": [
           {
            "error_x": {
             "color": "#2a3f5f"
            },
            "error_y": {
             "color": "#2a3f5f"
            },
            "marker": {
             "line": {
              "color": "#E5ECF6",
              "width": 0.5
             },
             "pattern": {
              "fillmode": "overlay",
              "size": 10,
              "solidity": 0.2
             }
            },
            "type": "bar"
           }
          ],
          "barpolar": [
           {
            "marker": {
             "line": {
              "color": "#E5ECF6",
              "width": 0.5
             },
             "pattern": {
              "fillmode": "overlay",
              "size": 10,
              "solidity": 0.2
             }
            },
            "type": "barpolar"
           }
          ],
          "carpet": [
           {
            "aaxis": {
             "endlinecolor": "#2a3f5f",
             "gridcolor": "white",
             "linecolor": "white",
             "minorgridcolor": "white",
             "startlinecolor": "#2a3f5f"
            },
            "baxis": {
             "endlinecolor": "#2a3f5f",
             "gridcolor": "white",
             "linecolor": "white",
             "minorgridcolor": "white",
             "startlinecolor": "#2a3f5f"
            },
            "type": "carpet"
           }
          ],
          "choropleth": [
           {
            "colorbar": {
             "outlinewidth": 0,
             "ticks": ""
            },
            "type": "choropleth"
           }
          ],
          "contour": [
           {
            "colorbar": {
             "outlinewidth": 0,
             "ticks": ""
            },
            "colorscale": [
             [
              0,
              "#0d0887"
             ],
             [
              0.1111111111111111,
              "#46039f"
             ],
             [
              0.2222222222222222,
              "#7201a8"
             ],
             [
              0.3333333333333333,
              "#9c179e"
             ],
             [
              0.4444444444444444,
              "#bd3786"
             ],
             [
              0.5555555555555556,
              "#d8576b"
             ],
             [
              0.6666666666666666,
              "#ed7953"
             ],
             [
              0.7777777777777778,
              "#fb9f3a"
             ],
             [
              0.8888888888888888,
              "#fdca26"
             ],
             [
              1,
              "#f0f921"
             ]
            ],
            "type": "contour"
           }
          ],
          "contourcarpet": [
           {
            "colorbar": {
             "outlinewidth": 0,
             "ticks": ""
            },
            "type": "contourcarpet"
           }
          ],
          "heatmap": [
           {
            "colorbar": {
             "outlinewidth": 0,
             "ticks": ""
            },
            "colorscale": [
             [
              0,
              "#0d0887"
             ],
             [
              0.1111111111111111,
              "#46039f"
             ],
             [
              0.2222222222222222,
              "#7201a8"
             ],
             [
              0.3333333333333333,
              "#9c179e"
             ],
             [
              0.4444444444444444,
              "#bd3786"
             ],
             [
              0.5555555555555556,
              "#d8576b"
             ],
             [
              0.6666666666666666,
              "#ed7953"
             ],
             [
              0.7777777777777778,
              "#fb9f3a"
             ],
             [
              0.8888888888888888,
              "#fdca26"
             ],
             [
              1,
              "#f0f921"
             ]
            ],
            "type": "heatmap"
           }
          ],
          "histogram": [
           {
            "marker": {
             "pattern": {
              "fillmode": "overlay",
              "size": 10,
              "solidity": 0.2
             }
            },
            "type": "histogram"
           }
          ],
          "histogram2d": [
           {
            "colorbar": {
             "outlinewidth": 0,
             "ticks": ""
            },
            "colorscale": [
             [
              0,
              "#0d0887"
             ],
             [
              0.1111111111111111,
              "#46039f"
             ],
             [
              0.2222222222222222,
              "#7201a8"
             ],
             [
              0.3333333333333333,
              "#9c179e"
             ],
             [
              0.4444444444444444,
              "#bd3786"
             ],
             [
              0.5555555555555556,
              "#d8576b"
             ],
             [
              0.6666666666666666,
              "#ed7953"
             ],
             [
              0.7777777777777778,
              "#fb9f3a"
             ],
             [
              0.8888888888888888,
              "#fdca26"
             ],
             [
              1,
              "#f0f921"
             ]
            ],
            "type": "histogram2d"
           }
          ],
          "histogram2dcontour": [
           {
            "colorbar": {
             "outlinewidth": 0,
             "ticks": ""
            },
            "colorscale": [
             [
              0,
              "#0d0887"
             ],
             [
              0.1111111111111111,
              "#46039f"
             ],
             [
              0.2222222222222222,
              "#7201a8"
             ],
             [
              0.3333333333333333,
              "#9c179e"
             ],
             [
              0.4444444444444444,
              "#bd3786"
             ],
             [
              0.5555555555555556,
              "#d8576b"
             ],
             [
              0.6666666666666666,
              "#ed7953"
             ],
             [
              0.7777777777777778,
              "#fb9f3a"
             ],
             [
              0.8888888888888888,
              "#fdca26"
             ],
             [
              1,
              "#f0f921"
             ]
            ],
            "type": "histogram2dcontour"
           }
          ],
          "mesh3d": [
           {
            "colorbar": {
             "outlinewidth": 0,
             "ticks": ""
            },
            "type": "mesh3d"
           }
          ],
          "parcoords": [
           {
            "line": {
             "colorbar": {
              "outlinewidth": 0,
              "ticks": ""
             }
            },
            "type": "parcoords"
           }
          ],
          "pie": [
           {
            "automargin": true,
            "type": "pie"
           }
          ],
          "scatter": [
           {
            "fillpattern": {
             "fillmode": "overlay",
             "size": 10,
             "solidity": 0.2
            },
            "type": "scatter"
           }
          ],
          "scatter3d": [
           {
            "line": {
             "colorbar": {
              "outlinewidth": 0,
              "ticks": ""
             }
            },
            "marker": {
             "colorbar": {
              "outlinewidth": 0,
              "ticks": ""
             }
            },
            "type": "scatter3d"
           }
          ],
          "scattercarpet": [
           {
            "marker": {
             "colorbar": {
              "outlinewidth": 0,
              "ticks": ""
             }
            },
            "type": "scattercarpet"
           }
          ],
          "scattergeo": [
           {
            "marker": {
             "colorbar": {
              "outlinewidth": 0,
              "ticks": ""
             }
            },
            "type": "scattergeo"
           }
          ],
          "scattergl": [
           {
            "marker": {
             "colorbar": {
              "outlinewidth": 0,
              "ticks": ""
             }
            },
            "type": "scattergl"
           }
          ],
          "scattermap": [
           {
            "marker": {
             "colorbar": {
              "outlinewidth": 0,
              "ticks": ""
             }
            },
            "type": "scattermap"
           }
          ],
          "scattermapbox": [
           {
            "marker": {
             "colorbar": {
              "outlinewidth": 0,
              "ticks": ""
             }
            },
            "type": "scattermapbox"
           }
          ],
          "scatterpolar": [
           {
            "marker": {
             "colorbar": {
              "outlinewidth": 0,
              "ticks": ""
             }
            },
            "type": "scatterpolar"
           }
          ],
          "scatterpolargl": [
           {
            "marker": {
             "colorbar": {
              "outlinewidth": 0,
              "ticks": ""
             }
            },
            "type": "scatterpolargl"
           }
          ],
          "scatterternary": [
           {
            "marker": {
             "colorbar": {
              "outlinewidth": 0,
              "ticks": ""
             }
            },
            "type": "scatterternary"
           }
          ],
          "surface": [
           {
            "colorbar": {
             "outlinewidth": 0,
             "ticks": ""
            },
            "colorscale": [
             [
              0,
              "#0d0887"
             ],
             [
              0.1111111111111111,
              "#46039f"
             ],
             [
              0.2222222222222222,
              "#7201a8"
             ],
             [
              0.3333333333333333,
              "#9c179e"
             ],
             [
              0.4444444444444444,
              "#bd3786"
             ],
             [
              0.5555555555555556,
              "#d8576b"
             ],
             [
              0.6666666666666666,
              "#ed7953"
             ],
             [
              0.7777777777777778,
              "#fb9f3a"
             ],
             [
              0.8888888888888888,
              "#fdca26"
             ],
             [
              1,
              "#f0f921"
             ]
            ],
            "type": "surface"
           }
          ],
          "table": [
           {
            "cells": {
             "fill": {
              "color": "#EBF0F8"
             },
             "line": {
              "color": "white"
             }
            },
            "header": {
             "fill": {
              "color": "#C8D4E3"
             },
             "line": {
              "color": "white"
             }
            },
            "type": "table"
           }
          ]
         },
         "layout": {
          "annotationdefaults": {
           "arrowcolor": "#2a3f5f",
           "arrowhead": 0,
           "arrowwidth": 1
          },
          "autotypenumbers": "strict",
          "coloraxis": {
           "colorbar": {
            "outlinewidth": 0,
            "ticks": ""
           }
          },
          "colorscale": {
           "diverging": [
            [
             0,
             "#8e0152"
            ],
            [
             0.1,
             "#c51b7d"
            ],
            [
             0.2,
             "#de77ae"
            ],
            [
             0.3,
             "#f1b6da"
            ],
            [
             0.4,
             "#fde0ef"
            ],
            [
             0.5,
             "#f7f7f7"
            ],
            [
             0.6,
             "#e6f5d0"
            ],
            [
             0.7,
             "#b8e186"
            ],
            [
             0.8,
             "#7fbc41"
            ],
            [
             0.9,
             "#4d9221"
            ],
            [
             1,
             "#276419"
            ]
           ],
           "sequential": [
            [
             0,
             "#0d0887"
            ],
            [
             0.1111111111111111,
             "#46039f"
            ],
            [
             0.2222222222222222,
             "#7201a8"
            ],
            [
             0.3333333333333333,
             "#9c179e"
            ],
            [
             0.4444444444444444,
             "#bd3786"
            ],
            [
             0.5555555555555556,
             "#d8576b"
            ],
            [
             0.6666666666666666,
             "#ed7953"
            ],
            [
             0.7777777777777778,
             "#fb9f3a"
            ],
            [
             0.8888888888888888,
             "#fdca26"
            ],
            [
             1,
             "#f0f921"
            ]
           ],
           "sequentialminus": [
            [
             0,
             "#0d0887"
            ],
            [
             0.1111111111111111,
             "#46039f"
            ],
            [
             0.2222222222222222,
             "#7201a8"
            ],
            [
             0.3333333333333333,
             "#9c179e"
            ],
            [
             0.4444444444444444,
             "#bd3786"
            ],
            [
             0.5555555555555556,
             "#d8576b"
            ],
            [
             0.6666666666666666,
             "#ed7953"
            ],
            [
             0.7777777777777778,
             "#fb9f3a"
            ],
            [
             0.8888888888888888,
             "#fdca26"
            ],
            [
             1,
             "#f0f921"
            ]
           ]
          },
          "colorway": [
           "#636efa",
           "#EF553B",
           "#00cc96",
           "#ab63fa",
           "#FFA15A",
           "#19d3f3",
           "#FF6692",
           "#B6E880",
           "#FF97FF",
           "#FECB52"
          ],
          "font": {
           "color": "#2a3f5f"
          },
          "geo": {
           "bgcolor": "white",
           "lakecolor": "white",
           "landcolor": "#E5ECF6",
           "showlakes": true,
           "showland": true,
           "subunitcolor": "white"
          },
          "hoverlabel": {
           "align": "left"
          },
          "hovermode": "closest",
          "mapbox": {
           "style": "light"
          },
          "paper_bgcolor": "white",
          "plot_bgcolor": "#E5ECF6",
          "polar": {
           "angularaxis": {
            "gridcolor": "white",
            "linecolor": "white",
            "ticks": ""
           },
           "bgcolor": "#E5ECF6",
           "radialaxis": {
            "gridcolor": "white",
            "linecolor": "white",
            "ticks": ""
           }
          },
          "scene": {
           "xaxis": {
            "backgroundcolor": "#E5ECF6",
            "gridcolor": "white",
            "gridwidth": 2,
            "linecolor": "white",
            "showbackground": true,
            "ticks": "",
            "zerolinecolor": "white"
           },
           "yaxis": {
            "backgroundcolor": "#E5ECF6",
            "gridcolor": "white",
            "gridwidth": 2,
            "linecolor": "white",
            "showbackground": true,
            "ticks": "",
            "zerolinecolor": "white"
           },
           "zaxis": {
            "backgroundcolor": "#E5ECF6",
            "gridcolor": "white",
            "gridwidth": 2,
            "linecolor": "white",
            "showbackground": true,
            "ticks": "",
            "zerolinecolor": "white"
           }
          },
          "shapedefaults": {
           "line": {
            "color": "#2a3f5f"
           }
          },
          "ternary": {
           "aaxis": {
            "gridcolor": "white",
            "linecolor": "white",
            "ticks": ""
           },
           "baxis": {
            "gridcolor": "white",
            "linecolor": "white",
            "ticks": ""
           },
           "bgcolor": "#E5ECF6",
           "caxis": {
            "gridcolor": "white",
            "linecolor": "white",
            "ticks": ""
           }
          },
          "title": {
           "x": 0.05
          },
          "xaxis": {
           "automargin": true,
           "gridcolor": "white",
           "linecolor": "white",
           "ticks": "",
           "title": {
            "standoff": 15
           },
           "zerolinecolor": "white",
           "zerolinewidth": 2
          },
          "yaxis": {
           "automargin": true,
           "gridcolor": "white",
           "linecolor": "white",
           "ticks": "",
           "title": {
            "standoff": 15
           },
           "zerolinecolor": "white",
           "zerolinewidth": 2
          }
         }
        },
        "title": {
         "text": "Produccion por Producto"
        },
        "xaxis": {
         "title": {
          "text": "Producto"
         }
        },
        "yaxis": {
         "title": {
          "text": "Cantidad"
         }
        }
       }
      }
     },
     "metadata": {},
     "output_type": "display_data"
    }
   ],
   "source": [
    "import plotly.graph_objects as go\n",
    "\n",
    "nombre = df['Hora'].astype('str') + df['Nombre']\n",
    "# Crear gráfico de barras\n",
    "fig = go.Figure(data=[go.Bar(x=nombre, y=df['Dosificado'])])\n",
    "\n",
    "# Personalizar el gráfico\n",
    "fig.update_layout(title='Produccion por Producto',\n",
    "                  xaxis_title='Producto',\n",
    "                  yaxis_title='Cantidad')\n",
    "\n",
    "# Mostrar el gráfico\n",
    "fig.show()\n"
   ]
  }
 ],
 "metadata": {
  "kernelspec": {
   "display_name": ".venv",
   "language": "python",
   "name": "python3"
  },
  "language_info": {
   "codemirror_mode": {
    "name": "ipython",
    "version": 3
   },
   "file_extension": ".py",
   "mimetype": "text/x-python",
   "name": "python",
   "nbconvert_exporter": "python",
   "pygments_lexer": "ipython3",
   "version": "3.12.8"
  }
 },
 "nbformat": 4,
 "nbformat_minor": 2
}

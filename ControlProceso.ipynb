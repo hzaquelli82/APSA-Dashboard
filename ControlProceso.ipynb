{
 "cells": [
  {
   "cell_type": "markdown",
   "metadata": {},
   "source": [
    "## Conexión base de datos"
   ]
  },
  {
   "cell_type": "code",
   "execution_count": 27,
   "metadata": {},
   "outputs": [
    {
     "data": {
      "text/plain": [
       "25153"
      ]
     },
     "execution_count": 27,
     "metadata": {},
     "output_type": "execute_result"
    }
   ],
   "source": [
    "import MySQLdb\n",
    "import pandas as pd\n",
    "\n",
    "db = MySQLdb.connect(host=\"192.168.0.12\",    # tu host, usualmente localhost\n",
    "                     user=\"operario\",         # tu usuario\n",
    "                     passwd=\"\",  # tu password\n",
    "                     db=\"dbp8100\")        # el nombre de la base de datos\n",
    "\n",
    "# Debes crear un objeto Cursor. Te permitirá\n",
    "# ejecutar todos los queries que necesitas\n",
    "cur = db.cursor()\n",
    "\n",
    "# Usa todas las sentencias SQL que quieras\n",
    "cur.execute(\"SELECT * FROM tareaseje\")"
   ]
  },
  {
   "cell_type": "markdown",
   "metadata": {},
   "source": [
    "# Extracción de datos"
   ]
  },
  {
   "cell_type": "code",
   "execution_count": 30,
   "metadata": {},
   "outputs": [
    {
     "name": "stdout",
     "output_type": "stream",
     "text": [
      "        Fecha            Hora                                         Nombre  \\\n",
      "0  2025-02-05 0 days 03:06:51                     RECRIA 16  AL 15%  A.A....   \n",
      "1  2025-02-05 0 days 06:06:46                     RECRIA 16  AL 15%  A.A....   \n",
      "2  2025-02-05 0 days 09:57:52                     RECRIA 16  AL 15%  A.A....   \n",
      "3  2025-02-05 0 days 10:35:33                        ENGORDE BOVINO 14% A.A.   \n",
      "4  2025-02-05 0 days 11:16:03                          TER MELAZA 12.8%AA...   \n",
      "5  2025-02-05 0 days 12:30:14                       MANTENIMIENTO MELAZA....   \n",
      "6  2025-02-05 0 days 13:09:38                DESTETE PRECOZ MELAZA  10% A.A.   \n",
      "7  2025-02-05 0 days 14:15:47                                  HAPPY STARTER   \n",
      "8  2025-02-05 0 days 14:51:36  FIBROMIXER PASTOREO 16%A.A. (P Girasol Común)   \n",
      "9  2025-02-05 0 days 15:32:54            RECRIA 14 SIN PELETEAR (quebradora)   \n",
      "\n",
      "   Programado  Realizado          Tiempo  \n",
      "0     17000.0    17000.0 0 days 02:57:28  \n",
      "1     15000.0    15000.0 0 days 03:42:50  \n",
      "2      5000.0     3000.0 0 days 00:37:07  \n",
      "3      3000.0     3000.0 0 days 00:39:50  \n",
      "4      6000.0     6000.0 0 days 01:11:54  \n",
      "5      3000.0     3000.0 0 days 00:37:43  \n",
      "6      3996.0     3996.0 0 days 00:00:00  \n",
      "7      2997.0     2997.0 0 days 00:33:56  \n",
      "8      2000.0     2000.0 0 days 00:27:41  \n",
      "9     28000.0    14000.0 0 days 02:28:33  \n"
     ]
    }
   ],
   "source": [
    "# Extraer datos y convertir a df\n",
    "\n",
    "# Datos mysql\n",
    "cur.execute('''\n",
    "            SELECT                 \n",
    "                tareaseje.Fecha AS Fecha,\n",
    "                tareaseje.Hora AS Hora,\n",
    "                formulas.Nombre AS Nombre,\n",
    "                tareaseje.Set AS Programado,\n",
    "                tareaseje.SetE AS Realizado,\n",
    "                tareaseje.Tiempo AS Tiempo\n",
    "            FROM \n",
    "                dbp8100.tareaseje AS tareaseje\n",
    "            JOIN \n",
    "                dbp8100.formulas AS formulas ON formulas.NroID = tareaseje.IDF\n",
    "            WHERE\n",
    "                Fecha = '2025-02-05' ''')\n",
    "resultados = cur.fetchall()\n",
    "# Obtener los nombres de las columnas\n",
    "columnas = [desc[0] for desc in cur.description]\n",
    "\n",
    "# Crear un DataFrame de pandas\n",
    "df = pd.DataFrame(resultados, columns=columnas)\n",
    "\n",
    "# Cerrar el cursor y la conexión\n",
    "cur.close()\n",
    "db.close()\n",
    "\n",
    "# Mostrar el DataFrame\n",
    "print(df)"
   ]
  },
  {
   "cell_type": "code",
   "execution_count": 7,
   "metadata": {},
   "outputs": [
    {
     "name": "stdout",
     "output_type": "stream",
     "text": [
      "<class 'pandas.core.frame.DataFrame'>\n",
      "RangeIndex: 25153 entries, 0 to 25152\n",
      "Data columns (total 16 columns):\n",
      " #   Column   Non-Null Count  Dtype          \n",
      "---  ------   --------------  -----          \n",
      " 0   NroID    25153 non-null  int64          \n",
      " 1   Fecha    25153 non-null  object         \n",
      " 2   Hora     25153 non-null  timedelta64[ns]\n",
      " 3   IDF      25153 non-null  int64          \n",
      " 4   Ciclos   25153 non-null  int64          \n",
      " 5   IDOP     25153 non-null  int64          \n",
      " 6   Turno    25153 non-null  int64          \n",
      " 7   Eje      25153 non-null  object         \n",
      " 8   Set      25153 non-null  float64        \n",
      " 9   IDD      25153 non-null  int64          \n",
      " 10  Lote     25153 non-null  int64          \n",
      " 11  Destino  25153 non-null  object         \n",
      " 12  Tiempo   25153 non-null  timedelta64[ns]\n",
      " 13  KVA      25153 non-null  float64        \n",
      " 14  CicloE   25153 non-null  int64          \n",
      " 15  SetE     25153 non-null  float64        \n",
      "dtypes: float64(3), int64(8), object(3), timedelta64[ns](2)\n",
      "memory usage: 3.1+ MB\n"
     ]
    }
   ],
   "source": [
    "df.info()"
   ]
  }
 ],
 "metadata": {
  "kernelspec": {
   "display_name": ".venv",
   "language": "python",
   "name": "python3"
  },
  "language_info": {
   "codemirror_mode": {
    "name": "ipython",
    "version": 3
   },
   "file_extension": ".py",
   "mimetype": "text/x-python",
   "name": "python",
   "nbconvert_exporter": "python",
   "pygments_lexer": "ipython3",
   "version": "3.12.8"
  }
 },
 "nbformat": 4,
 "nbformat_minor": 2
}
